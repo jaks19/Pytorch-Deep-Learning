{
 "cells": [
  {
   "cell_type": "markdown",
   "metadata": {},
   "source": [
    "# Intro to Pytorch - Tensors\n",
    "\n",
    "A deep learning research platform that provides maximum flexibility and speed"
   ]
  },
  {
   "cell_type": "markdown",
   "metadata": {},
   "source": [
    "## Tensor Interchangeability with numpy array\n",
    "\n",
    "### Tensors\n",
    "\n",
    "What is an array in numpy is called a tensor in pytorch. And tensors or numpy arrays can be changed from one another\n"
   ]
  },
  {
   "cell_type": "code",
   "execution_count": 1,
   "metadata": {
    "collapsed": false
   },
   "outputs": [
    {
     "name": "stdout",
     "output_type": "stream",
     "text": [
      "empty: \n",
      " 0.0000  0.0000  0.0000  0.0000  0.0000  0.0000\n",
      " 0.0000  0.0000  0.0000  0.0000  0.0000  0.0000\n",
      " 0.0000  0.0000  0.0000  0.0000  0.0000  2.0000\n",
      " 0.0000 -2.0000  0.0000  0.0000  0.0000  0.0000\n",
      "[torch.FloatTensor of size 4x6]\n",
      "\n"
     ]
    }
   ],
   "source": [
    "import torch\n",
    "\n",
    "x = torch.Tensor(4,6) # Empty 4 * 6 tensor -- Weird values but all pretty much 0\n",
    "\n",
    "print 'empty:', x "
   ]
  },
  {
   "cell_type": "code",
   "execution_count": 13,
   "metadata": {
    "collapsed": false
   },
   "outputs": [
    {
     "name": "stdout",
     "output_type": "stream",
     "text": [
      "random: \n",
      " 0.8678  0.2008  0.8863  0.2922  0.1619  0.6413\n",
      " 0.2351  0.3206  0.8461  0.7313  0.9499  0.1053\n",
      " 0.1279  0.4911  0.3930  0.3347  0.3113  0.1394\n",
      " 0.8568  0.0159  0.3691  0.5038  0.7861  0.5177\n",
      "[torch.FloatTensor of size 4x6]\n",
      "\n",
      "size: torch.Size([4, 6])\n"
     ]
    }
   ],
   "source": [
    "y = torch.rand(4,6) # 4 * 6 tensor with random values\n",
    "\n",
    "print 'random:', y\n",
    "print 'size:', y.size()"
   ]
  },
  {
   "cell_type": "markdown",
   "metadata": {},
   "source": [
    "### From tensor to numpy array and vice-versa\n",
    "The conversion is as shown below and even if the two are stored under different variables, they share the same memory so changing one also changes the other."
   ]
  },
  {
   "cell_type": "code",
   "execution_count": 18,
   "metadata": {
    "collapsed": false
   },
   "outputs": [
    {
     "name": "stdout",
     "output_type": "stream",
     "text": [
      "\n",
      " 1  1  1  1\n",
      " 1  1  1  1\n",
      "[torch.FloatTensor of size 2x4]\n",
      "\n",
      "[[ 1.  1.  1.  1.]\n",
      " [ 1.  1.  1.  1.]]\n"
     ]
    }
   ],
   "source": [
    "a = torch.ones(2,4)\n",
    "\n",
    "print a\n",
    "\n",
    "b = a.numpy()\n",
    "\n",
    "print b"
   ]
  },
  {
   "cell_type": "code",
   "execution_count": 19,
   "metadata": {
    "collapsed": false
   },
   "outputs": [
    {
     "name": "stdout",
     "output_type": "stream",
     "text": [
      "[ 1.  1.  1.  1.]\n",
      "[ 1.  1.  1.  1.]\n"
     ]
    }
   ],
   "source": [
    "import numpy as np\n",
    "\n",
    "f = np.ones(4)\n",
    "\n",
    "print f\n",
    "\n",
    "g = torch.from_numpy(f)\n",
    "\n",
    "print f"
   ]
  },
  {
   "cell_type": "markdown",
   "metadata": {},
   "source": [
    "### Indexing into tensors\n",
    "Indexing, a key aspect of numpy arrays is exactly the same for tensors"
   ]
  },
  {
   "cell_type": "code",
   "execution_count": 22,
   "metadata": {
    "collapsed": false
   },
   "outputs": [
    {
     "name": "stdout",
     "output_type": "stream",
     "text": [
      "row 0 \n",
      " 1\n",
      " 1\n",
      " 1\n",
      " 1\n",
      " 1\n",
      " 1\n",
      "[torch.FloatTensor of size 6]\n",
      "\n",
      "col 2 \n",
      " 1\n",
      " 1\n",
      " 1\n",
      " 1\n",
      "[torch.FloatTensor of size 4]\n",
      "\n"
     ]
    }
   ],
   "source": [
    "t = torch.ones(4,6)\n",
    "\n",
    "print 'row 0', t[0,:]\n",
    "print 'col 2', t[:, 2]"
   ]
  },
  {
   "cell_type": "markdown",
   "metadata": {},
   "source": [
    "### Operations on tensors\n",
    "\n",
    "Many operations including addition as a simple example can be carried out on tensors and the full [documentation](http://pytorch.org/docs/master/torch.html) for these operations is helpful to find the operations needed\n",
    "\n"
   ]
  },
  {
   "cell_type": "code",
   "execution_count": 14,
   "metadata": {
    "collapsed": false
   },
   "outputs": [
    {
     "name": "stdout",
     "output_type": "stream",
     "text": [
      "\n",
      " 0.8678  0.2008  0.8863  0.2922  0.1619  0.6413\n",
      " 0.2351  0.3206  0.8461  0.7313  0.9499  0.1053\n",
      " 0.1279  0.4911  0.3930  0.3347  0.3113  0.1394\n",
      " 0.8568  0.0159  0.3691  0.5038  0.7861  0.5177\n",
      "[torch.FloatTensor of size 4x6]\n",
      "\n",
      "\n",
      " 0.8678  0.2008  0.8863  0.2922  0.1619  0.6413\n",
      " 0.2351  0.3206  0.8461  0.7313  0.9499  0.1053\n",
      " 0.1279  0.4911  0.3930  0.3347  0.3113  0.1394\n",
      " 0.8568  0.0159  0.3691  0.5038  0.7861  0.5177\n",
      "[torch.FloatTensor of size 4x6]\n",
      "\n"
     ]
    }
   ],
   "source": [
    "print torch.add(x, y) # One of the ways to add\n",
    "\n",
    "print x.add_(y) # Another one of the ways to add"
   ]
  }
 ],
 "metadata": {
  "anaconda-cloud": {},
  "kernelspec": {
   "display_name": "Python [conda root]",
   "language": "python",
   "name": "conda-root-py"
  },
  "language_info": {
   "codemirror_mode": {
    "name": "ipython",
    "version": 2
   },
   "file_extension": ".py",
   "mimetype": "text/x-python",
   "name": "python",
   "nbconvert_exporter": "python",
   "pygments_lexer": "ipython2",
   "version": "2.7.12"
  }
 },
 "nbformat": 4,
 "nbformat_minor": 1
}
